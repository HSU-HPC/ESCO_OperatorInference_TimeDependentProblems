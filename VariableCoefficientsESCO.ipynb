{
 "cells": [
  {
   "cell_type": "code",
   "execution_count": null,
   "id": "50c31a40",
   "metadata": {},
   "outputs": [],
   "source": [
    "import numpy as np\n",
    "import matplotlib.pyplot as plt\n",
    "from sklearn.linear_model import LinearRegression"
   ]
  },
  {
   "cell_type": "markdown",
   "id": "ea9820e8",
   "metadata": {},
   "source": [
    "# Application to Aquifer Problem"
   ]
  },
  {
   "cell_type": "code",
   "execution_count": null,
   "id": "cdef5d05",
   "metadata": {},
   "outputs": [],
   "source": [
    "Q = 0.05 # pump rate\n",
    "S = 1.4e-4 # storing coeff.\n",
    "T = 0.0006 # transmissivity"
   ]
  },
  {
   "cell_type": "code",
   "execution_count": null,
   "id": "1671aa69",
   "metadata": {},
   "outputs": [],
   "source": [
    "# manual integration\n",
    "from scipy.integrate import quad\n",
    "from scipy.special import expi\n",
    "\n",
    "def brunnenfunkt(x):\n",
    "    \"\"\"\n",
    "    Auxilliary function for manually approximating W(u) from the Theiss solution by means of integration\n",
    "    \"\"\"\n",
    "    return np.exp(-x)/x\n",
    "\n",
    "def W(u):\n",
    "    \"\"\"\n",
    "    W(u) as in the solution provided by Theiss\n",
    "    \"\"\"\n",
    "    arr = np.zeros(u.shape)\n",
    "    # fill array with nested for-loop\n",
    "    for i in range(u.shape[0]):\n",
    "        for j in range(u.shape[1]):\n",
    "            arr[i,j]= np.array([quad(brunnenfunkt, u[i,j], np.inf, epsabs=1e-20, epsrel=1e-20)[0]])\n",
    "    return arr\n",
    "\n",
    "def s(r,t, manual=False):\n",
    "    \"\"\"\n",
    "    Analytic solution by Theiss - either with manual computation of W(u)\n",
    "    \"\"\"\n",
    "    if manual:\n",
    "        return (Q/(4*np.pi*T))*W(S*r**2/(4*T*t))\n",
    "    else:\n",
    "        return -(Q/(4*np.pi*T))*expi(-S*r**2/(4*T*t))"
   ]
  },
  {
   "cell_type": "code",
   "execution_count": null,
   "id": "4e80b882",
   "metadata": {},
   "outputs": [],
   "source": [
    "def measure_match_analyticalstencil(num_r, num_t, verbose=False):\n",
    "    \"\"\"\n",
    "    Utility function for measuring the absolute relative difference between regressed and analytically \n",
    "    expected stencils. Stencils are expected to be regressed locally.\n",
    "    num_r : number of datapoints in r\n",
    "    num_t : corresponding for t\n",
    "    \"\"\"\n",
    "    # generate data\n",
    "    rs = np.linspace(100,500,num=num_r)\n",
    "    ts = np.linspace(0.1*60**2,2*60**2, num=num_t)\n",
    "    rr,tt = np.meshgrid(rs,ts)\n",
    "    theis = s(rr,tt)\n",
    "    # compute grid cell sizes\n",
    "    delta_r = rs[2]-rs[1]\n",
    "    delta_t = ts[2]-ts[1]\n",
    "    # regress the local stencils\n",
    "    stencils = generate_local_stencils_theiss(theis, delta_t)\n",
    "    # compute max. rel. errors of the respective coefficients\n",
    "    uim1 = 100*np.max(np.abs((stencils[:,0]-(T/S*(2-delta_r/rs)/(2*delta_r**2)))/(T/S*(2-delta_r/rs)/(2*delta_r**2))))\n",
    "    uip1 = 100*np.max(np.abs((stencils[:,2]-(T/S*(2+delta_r/rs)/(2*delta_r**2)))/(T/S*(2+delta_r/rs)/(2*delta_r**2))))\n",
    "    ui = 100*np.max(np.abs((stencils[:,1]-(T/S*(-2)/delta_r**2+0*rs))/(T/S*(-2)/delta_r**2+0*rs)))\n",
    "    if verbose:\n",
    "        print(\"Max. rel. error on u_i-1: {}%\".format(round(uim1, 2)))\n",
    "        print(\"Max. rel. error on u_i+1: {}%\".format(round(uip1, 2)))\n",
    "        print(\"Max. rel. error on u_i: {}%\".format(round(ui, 2)))\n",
    "    return delta_r, uim1, uip1, ui"
   ]
  },
  {
   "cell_type": "code",
   "execution_count": null,
   "id": "3763c9ad",
   "metadata": {},
   "outputs": [],
   "source": [
    "# generate data\n",
    "rs = np.linspace(100,500,num=50)\n",
    "ts = np.linspace(0.1*60**2,2*60**2, num=1000)\n",
    "rr,tt = np.meshgrid(rs,ts)\n",
    "theis = s(rr,tt)"
   ]
  },
  {
   "cell_type": "code",
   "execution_count": null,
   "id": "05dbcd0a",
   "metadata": {},
   "outputs": [],
   "source": [
    "# make image\n",
    "plt.imshow(theis, aspect=\"auto\")"
   ]
  },
  {
   "cell_type": "code",
   "execution_count": null,
   "id": "8e547e33",
   "metadata": {},
   "outputs": [],
   "source": [
    "# grid cell sizes\n",
    "delta_r = rs[2]-rs[1]\n",
    "delta_t = ts[2]-ts[1]\n",
    "print(\"Delta r:{},\\tDelta t:{}\".format(delta_r, delta_t))"
   ]
  },
  {
   "cell_type": "code",
   "execution_count": null,
   "id": "796bcfd7",
   "metadata": {},
   "outputs": [],
   "source": [
    "def generate_local_stencils_theiss(t, delta_t):\n",
    "    \"\"\"\n",
    "    Infer locally constant stencil coefficients, by employing regression along time axis\n",
    "    t : matrix t_dim x r_dim of the theis solution\n",
    "    delta_t : grid cell size in time\n",
    "    \"\"\"\n",
    "    stencil_coeffs = np.zeros((t.shape[1], 3)) # array for storing results --> r_dim x 3\n",
    "    for r_ind in range(1, t.shape[1]-1): # iterate over central node\n",
    "        X = t[:-1,r_ind-1:r_ind+1+1] # select respective r-elements of the data-matrix. Not include last element, since we don't have an approximation for the time derivative there\n",
    "        y = (t[:,r_ind]-np.roll(t[:,r_ind], 1))[1:]/delta_t # forward difference scheme to approx. time derivative\n",
    "        # perform linear regression\n",
    "        lr = LinearRegression(fit_intercept=False)\n",
    "        lr.fit(X,y)\n",
    "        stencil_coeffs[r_ind,:] = lr.coef_ # store local stencil coefficient\n",
    "    # linear interpolation for points, where left-hand/right-hand side data was not available for regression\n",
    "    stencil_coeffs[0,:] = stencil_coeffs[1,:] + (stencil_coeffs[1,:]-stencil_coeffs[2,:])\n",
    "    stencil_coeffs[-1,:] = stencil_coeffs[-2,:] + (stencil_coeffs[-2,:]-stencil_coeffs[-3,:])\n",
    "    return stencil_coeffs"
   ]
  },
  {
   "cell_type": "code",
   "execution_count": null,
   "id": "01f8aea6",
   "metadata": {},
   "outputs": [],
   "source": [
    "stencils = generate_local_stencils_theiss(theis, delta_t) # compute the local stencils"
   ]
  },
  {
   "cell_type": "code",
   "execution_count": null,
   "id": "f9f9a8a1",
   "metadata": {},
   "outputs": [],
   "source": [
    "# plot for the paper, along with analytic solution\n",
    "fig, axs = plt.subplots(ncols=1, nrows = 2, sharex=True)\n",
    "axs[0].plot(rs, stencils[:,0], label=r\"$u_{i-1, j}, regr.$\", color=\"C0\")\n",
    "axs[0].plot(rs, T/S*(2-delta_r/rs)/(2*delta_r**2), label=r\"$u_{i-1, j}, anal.$\", ls=\"--\", color=\"C0\")\n",
    "axs[0].plot(rs, stencils[:,2], label=r\"$u_{i+1, j}, regr.$\", color=\"C1\")\n",
    "axs[0].plot(rs, T/S*(2+delta_r/rs)/(2*delta_r**2), label=r\"$u_{i+1, j}, anal.$\", ls=\"--\", color=\"C1\")\n",
    "axs[0].legend(ncol=2, loc=\"upper right\")\n",
    "axs[0].set_ylabel(\"Stencil Coefficients\")\n",
    "axs[1].plot(rs, stencils[:,1], label=r\"$u_{i, j}, regr.$\", color=\"C2\")\n",
    "axs[1].plot(rs, T/S*(-2)/delta_r**2+0*rs, label=r\"$u_{i,j}, anal.$\", ls=\"--\", color=\"C2\")\n",
    "axs[1].legend()\n",
    "axs[1].set_ylabel(\"Stencil Coefficients\")\n",
    "axs[1].set_xlabel(\"r in m\")\n",
    "fig.suptitle(\"Local Stencil Coefficients Groundwater Problem\")\n",
    "fig.tight_layout()"
   ]
  },
  {
   "cell_type": "code",
   "execution_count": null,
   "id": "a73add01",
   "metadata": {},
   "outputs": [],
   "source": [
    "# compute max. rel. errors of the respective coefficients\n",
    "print(\"Max. rel. error on u_{i-1}:\", 100*np.max(np.abs((stencils[:,0]-(T/S*(2-delta_r/rs)/(2*delta_r**2)))/(T/S*(2-delta_r/rs)/(2*delta_r**2)))))\n",
    "print(\"Max. rel. error on u_{i+1}:\", 100*np.max(np.abs((stencils[:,2]-(T/S*(2+delta_r/rs)/(2*delta_r**2)))/(T/S*(2+delta_r/rs)/(2*delta_r**2)))))\n",
    "print(\"Max. rel. error on u_{i}:\", 100*np.max(np.abs((stencils[:,1]-(T/S*(-2)/delta_r**2+0*rs))/(T/S*(-2)/delta_r**2+0*rs))))"
   ]
  },
  {
   "cell_type": "code",
   "execution_count": null,
   "id": "49ebedcc",
   "metadata": {},
   "outputs": [],
   "source": [
    "def localstencil_propagateTheiss_vonNeumann(X, X_true, n, stencils, delta_t):\n",
    "    \"\"\"\n",
    "    Recursive function to propagate a given state using the local stencil coefficients and a forward scheme in time\n",
    "    X : matrix to fill recursively\n",
    "    X_true : correct solution, only required for the boundaries\n",
    "    n : timestep to fill in this iteration\n",
    "    stencils : local stencil coefficients\n",
    "    delta_t : grid cell size in time\n",
    "    \"\"\"\n",
    "    if n==X.shape[0]: # if matrix is fully pupolated\n",
    "        return X # abort\n",
    "    for r_ind in range(1, X.shape[1]-1):# iterate over central node\n",
    "        # populate this central r-position one timestep ahead\n",
    "        X[n, r_ind] = X[n-1, r_ind] + delta_t*(stencils[r_ind,0]*X[n-1,r_ind-1] + stencils[r_ind,1]*X[n-1,r_ind] + stencils[r_ind,2]*X[n-1,r_ind+1])\n",
    "    # boundaries by analytic solution\n",
    "    X[n,0] = X_true[n,0] \n",
    "    X[n,-1] = X_true[n,-1]\n",
    "    # one time step ahead\n",
    "    return localstencil_propagateTheiss_vonNeumann(X, X_true, n+1, stencils, delta_t)"
   ]
  },
  {
   "cell_type": "code",
   "execution_count": null,
   "id": "7e75c766",
   "metadata": {},
   "outputs": [],
   "source": [
    "# generate test set 400 further timesteps + 1 old time steps\n",
    "X = np.zeros((401,len(rs)))\n",
    "# first element corresponds to last element from training set\n",
    "X[0,:] = theis[-1,:]\n",
    "\n",
    "# corresponding new t values in order to generate analytic solution on test set\n",
    "tsnew = np.linspace(ts[-1],ts[-1]+(X.shape[0]-1)*delta_t, num=X.shape[0])\n",
    "rr,tt = np.meshgrid(rs,tsnew)\n",
    "X_anal_sol = s(rr,tt)"
   ]
  },
  {
   "cell_type": "code",
   "execution_count": null,
   "id": "6b3e62ca",
   "metadata": {},
   "outputs": [],
   "source": [
    "def generateFromMatrix_Theiss(theiss, rs, delta_t):\n",
    "    \"\"\"\n",
    "    generate matrices for static regression problem, where we include the non-const. cofficient 1/r into the variables\n",
    "    theiss: matrix with theiss solution\n",
    "    \"\"\"\n",
    "    X = np.zeros(((theiss.shape[0]-1)*(theiss.shape[1]-2),5)) # empty matrix for storing the results\n",
    "    y = np.zeros(X.shape[0]) # corresponding RHS\n",
    "    x_idx = 0 # line to fill\n",
    "    for t_ind in range((theiss.shape[0]-1)): # iterate over all available times, except the last one, because we don't have a forward time for this one\n",
    "        for r_ind in range((theiss.shape[1]-2)): # iterate over left-most node on symm. 3-pt stencil\n",
    "            # fill line, including the variables with 1/r factor\n",
    "            X[x_idx,:] = [theiss[t_ind, r_ind], theiss[t_ind, r_ind+1], theiss[t_ind, r_ind+2], theiss[t_ind, r_ind]/rs[r_ind+1],theiss[t_ind, r_ind+2]/rs[r_ind+1]]\n",
    "            y[x_idx] = (theiss[t_ind+1, r_ind+1]-theiss[t_ind, r_ind+1])/delta_t # forward diff.\n",
    "            x_idx +=1\n",
    "    return X,y"
   ]
  },
  {
   "cell_type": "code",
   "execution_count": null,
   "id": "7802dc12",
   "metadata": {},
   "outputs": [],
   "source": [
    "# test cheaty stencil, where 1/r is included into regression problem\n",
    "def cheaty_stencil(theis, rs, delta_t):\n",
    "    \"\"\"\n",
    "    Computes stencil cofficients, where the 1/r factor is incorporated into the regression problem\n",
    "    \"\"\"\n",
    "    X,y = generateFromMatrix_Theiss(theis, rs, delta_t) # generate regression problem\n",
    "    lr = LinearRegression(fit_intercept=False) # perform OLS fit\n",
    "    lr.fit(X,y)\n",
    "    stencil = lr.coef_\n",
    "    return stencil\n",
    "\n",
    "# constant coefficients only\n",
    "def very_stupid_stencil(theis, rs, delta_t):\n",
    "    \"\"\"\n",
    "    Computes stencil coefficients by full neglection of any variable coefficients.\n",
    "    \"\"\"\n",
    "    X,y = generateFromMatrix_Theiss(theis, rs, delta_t) # generate regression problem, including the 1/r variables\n",
    "    X = X[:,0:3] # select only the nodes, without the incorporated factors\n",
    "    lr = LinearRegression(fit_intercept=False) # perform OLS fit\n",
    "    lr.fit(X,y)\n",
    "    stencil = lr.coef_\n",
    "    return stencil"
   ]
  },
  {
   "cell_type": "code",
   "execution_count": null,
   "id": "dba7807f",
   "metadata": {},
   "outputs": [],
   "source": [
    "def stupid_propagateTheiss_vonNeumann(X, X_true, rs, n, stencil, delta_t):\n",
    "    \"\"\"\n",
    "    Recursive function to propagate an initial state using the stencils regressed by manual incorporation of the variable coeffs.\n",
    "    X : matrix to populate\n",
    "    X_true : true solution on this interval, only used for boundaries\n",
    "    rs : r values on the domain\n",
    "    n : line to fill\n",
    "    delta_t : timestep\n",
    "    \"\"\"\n",
    "    if n==X.shape[0]: # if finished\n",
    "        return X # terminate\n",
    "    for r_ind in range(0,X.shape[1]-2): # iterate over left-most node on the three-point stencil\n",
    "        # populate\n",
    "        X[n,r_ind+1] = X[n-1,r_ind+1]+delta_t*(X[n-1, r_ind]*stencil[0]+stencil[1]*X[n-1, r_ind+1]+stencil[2]*X[n-1, r_ind+2]+stencil[3]*X[n-1, r_ind]/rs[r_ind+1]+stencil[4]*X[n-1, r_ind+2]/rs[r_ind+1])\n",
    "    # use boundaries\n",
    "    X[n,0] = X_true[n,0]\n",
    "    X[n,-1] = X_true[n,-1]\n",
    "    # next call\n",
    "    return stupid_propagateTheiss_vonNeumann(X, X_true, rs, n+1, stencil, delta_t)"
   ]
  },
  {
   "cell_type": "code",
   "execution_count": null,
   "id": "3fb868fc",
   "metadata": {},
   "outputs": [],
   "source": [
    "# regress stencil coefficients by manual incorporation of variable coeff.\n",
    "stupid_stencil = cheaty_stencil(theis, rs, delta_t)\n",
    "# expected values from classical finite-element discretization\n",
    "stupid_stencil_exp = np.array([T/(S*delta_r**2), -2*T/(S*delta_r**2), T/(S*delta_r**2), -T/(2*S*delta_r), T/(2*S*delta_r)])\n",
    "# regress stencil coefficients by full neglection of variable coeff.\n",
    "very_stupid_stencil = very_stupid_stencil(theis, rs, delta_t)\n",
    "very_stupid_stencil = np.hstack((very_stupid_stencil, [0,0])) # bring to same shape as the \"stupid-stencil\" variable"
   ]
  },
  {
   "cell_type": "code",
   "execution_count": null,
   "id": "6e385fff",
   "metadata": {},
   "outputs": [],
   "source": [
    "(stupid_stencil-stupid_stencil_exp)/stupid_stencil_exp*100"
   ]
  },
  {
   "cell_type": "code",
   "execution_count": null,
   "id": "d10e2113",
   "metadata": {},
   "outputs": [],
   "source": [
    "#  use all three different approaches to propagate the last state of the training interval for 400 time steps\n",
    "X_prop_reg = localstencil_propagateTheiss_vonNeumann(X.copy(), X_anal_sol, 1, stencils, delta_t)\n",
    "X_prop_reg_stupid = stupid_propagateTheiss_vonNeumann(X.copy(), X_anal_sol, rs, 1, stupid_stencil, delta_t)\n",
    "X_prop_reg_very_stupid = stupid_propagateTheiss_vonNeumann(X.copy(), X_anal_sol, rs, 1, very_stupid_stencil, delta_t)"
   ]
  },
  {
   "cell_type": "code",
   "execution_count": null,
   "id": "3a6139fd",
   "metadata": {},
   "outputs": [],
   "source": [
    "# compute mean absolute error (MAE)\n",
    "print(\"MAE sliding window approach: {}\".format(np.mean(np.abs(X_prop_reg[1:]-X_anal_sol[1:]))))\n",
    "print(\"MAE manual incorporation: {}\".format(np.mean(np.abs(X_prop_reg_stupid[1:]-X_anal_sol[1:]))))\n",
    "print(\"MAE neglection variable coeff: {}\".format(np.mean(np.abs(X_prop_reg_very_stupid[1:]-X_anal_sol[1:]))))"
   ]
  },
  {
   "cell_type": "code",
   "execution_count": null,
   "id": "e973356f",
   "metadata": {},
   "outputs": [],
   "source": [
    "fig, axs = plt.subplots(ncols=1, nrows=4, sharex=True, sharey=True)\n",
    "vmax = max([np.max(X_anal_sol), np.max(X_prop_reg), np.max(X_prop_reg_stupid), np.max(X_prop_reg_very_stupid)])\n",
    "vmin = min([np.max(X_anal_sol), np.min(X_prop_reg), np.min(X_prop_reg_stupid), np.min(X_prop_reg_very_stupid)])\n",
    "\n",
    "axs[1].imshow(X_prop_reg[1:], aspect=\"auto\", vmax=vmax, vmin=vmin, cmap=plt.get_cmap(\"gnuplot\"), extent=[rs[0],rs[-1],tsnew[-1],tsnew[0]])\n",
    "axs[1].contour(X_prop_reg[1:], levels=np.linspace(vmin, vmax,num=12), colors=\"white\",extent=[rs[0],rs[-1],tsnew[0],tsnew[-1]])\n",
    "axs[1].set_title(\"Sliding Window Approximation\")\n",
    "axs[1].set_ylabel(\"t in s\")\n",
    "axs[1].set_yticks([7500, 8500, 9500])\n",
    "\n",
    "axs[2].imshow(X_prop_reg_stupid[1:], aspect=\"auto\", vmax=vmax, vmin=vmin, cmap=plt.get_cmap(\"gnuplot\"),extent=[rs[0],rs[-1],tsnew[-1],tsnew[0]])\n",
    "axs[2].contour(X_prop_reg_stupid[1:], levels=np.linspace(vmin, vmax,num=12), colors=\"white\",extent=[rs[0],rs[-1],tsnew[0],tsnew[-1]])\n",
    "axs[2].set_title(\"Manual Inclusion into Regression\")\n",
    "axs[2].set_ylabel(\"t in s\")\n",
    "axs[2].set_yticks([7500, 8500, 9500])\n",
    "#axs[1].set_xlabel(\"r in m\")\n",
    "\n",
    "\n",
    "im = axs[3].imshow(X_prop_reg_very_stupid[1:], aspect=\"auto\", vmax=vmax, vmin=vmin, cmap=plt.get_cmap(\"gnuplot\"),extent=[rs[0],rs[-1],tsnew[-1],tsnew[0]])\n",
    "axs[3].contour(X_prop_reg_very_stupid[1:], levels=np.linspace(vmin, vmax,num=12), colors=\"white\",extent=[rs[0],rs[-1],tsnew[0],tsnew[-1]])\n",
    "axs[3].set_title(\"Neglection of Non-Constant Coefficients\")\n",
    "axs[3].set_ylabel(\"t in s\")\n",
    "axs[3].set_yticks([7500, 8500, 9500])\n",
    "#axs[2].set_xlabel(\"r in m\")\n",
    "\n",
    "#axs[0].set_ylabel(\"t in s\")\n",
    "\n",
    "axs[0].imshow(X_anal_sol[1:], aspect=\"auto\", vmax=vmax, vmin=vmin, cmap=plt.get_cmap(\"gnuplot\"),extent=[rs[0],rs[-1],tsnew[-1],tsnew[0]])\n",
    "contl = axs[0].contour(X_anal_sol[1:], levels=np.linspace(vmin, vmax,num=12), colors=\"white\",extent=[rs[0],rs[-1],tsnew[0],tsnew[-1]])\n",
    "axs[0].set_title(\"Analytic Solution\")\n",
    "axs[0].set_ylabel(\"t in s\")\n",
    "axs[0].set_yticks([7500, 8500, 9500])\n",
    "\n",
    "\n",
    "axs[3].set_xlabel(\"r in m\")\n",
    "axs[3].set_xticks([100,200,300,400,500])\n",
    "axs[3].xaxis.set_ticks_position('bottom')\n",
    "\n",
    "fig.tight_layout()\n",
    "fig.subplots_adjust(right=0.8)\n",
    "cbar_ax = fig.add_axes([0.85, 0.15, 0.05, 0.7])\n",
    "colorbar = fig.colorbar(im, cax=cbar_ax)\n",
    "colorbar.add_lines(contl)"
   ]
  },
  {
   "cell_type": "markdown",
   "id": "afee18c3",
   "metadata": {},
   "source": [
    "## Reviewer's Question on Window Size"
   ]
  },
  {
   "cell_type": "code",
   "execution_count": null,
   "id": "7f9ef548",
   "metadata": {},
   "outputs": [],
   "source": [
    "# plot the max. abs. rel. differenceof the regressed stencil coefficients vs window size\n",
    "\n",
    "d_rs = []\n",
    "uim1s = []\n",
    "uip1s = []\n",
    "uis = []\n",
    "\n",
    "num_t = 1000 # constant time step --> as before\n",
    "num_rs = np.logspace(np.log10(20),np.log10(250),num=100,dtype=np.int64) # spatial domain is constant, number of nodes increases\n",
    "# iterate over possible number of nodes\n",
    "for num_r in num_rs:\n",
    "    # grid cell size, max. abs. rel. difference per component\n",
    "    delta_r, uim1, uip1, ui = measure_match_analyticalstencil(num_r, num_t)\n",
    "    # append to lists\n",
    "    d_rs.append(delta_r)\n",
    "    uim1s.append(uim1)\n",
    "    uip1s.append(uip1)\n",
    "    uis.append(ui)"
   ]
  },
  {
   "cell_type": "code",
   "execution_count": null,
   "id": "053fdf34",
   "metadata": {},
   "outputs": [],
   "source": [
    "# print best configuration\n",
    "all_maes = np.array([uim1s, uip1s, uis])\n",
    "worst_mae = np.max(all_maes, axis=0)\n",
    "print(\"Minimal max. rel. error is {}% at Delta_r={}m\".format(round(np.min(worst_mae), 2), d_rs[np.argmin(worst_mae)]))"
   ]
  },
  {
   "cell_type": "code",
   "execution_count": null,
   "id": "180f75b7",
   "metadata": {},
   "outputs": [],
   "source": [
    "# quick visualization\n",
    "plt.plot(d_rs, uis, label=\"$u_i$\")\n",
    "plt.plot(d_rs, uim1s, label=\"$u_{i-1}$\")\n",
    "plt.plot(d_rs, uip1s, label=\"$u_{i+1}$\")\n",
    "plt.grid()\n",
    "plt.legend()\n",
    "plt.ylabel(\"Max. Rel. Diff. in %\")\n",
    "plt.xlabel(\"$\\Delta r$ in m\")\n",
    "plt.title(\"Matching Between Regressed and Analytical Stencil Coefficients\")\n",
    "plt.tight_layout()"
   ]
  },
  {
   "cell_type": "code",
   "execution_count": null,
   "id": "5a4a1823",
   "metadata": {},
   "outputs": [],
   "source": []
  }
 ],
 "metadata": {
  "kernelspec": {
   "display_name": "Python 3 (ipykernel)",
   "language": "python",
   "name": "python3"
  },
  "language_info": {
   "codemirror_mode": {
    "name": "ipython",
    "version": 3
   },
   "file_extension": ".py",
   "mimetype": "text/x-python",
   "name": "python",
   "nbconvert_exporter": "python",
   "pygments_lexer": "ipython3",
   "version": "3.8.8"
  }
 },
 "nbformat": 4,
 "nbformat_minor": 5
}
